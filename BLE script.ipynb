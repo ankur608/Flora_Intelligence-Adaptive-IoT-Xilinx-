# BLE communication script for ULTRA96V2 and MiMo_Sense. 

from bluepy import btle
import time
import binascii

# Address of BLE device to connect to.

BLE_ADDRESS = "30:AE:A4:75:29:72"

# NORDIC UART service.

BLE_SERVICE_UUID ="6e400001-b5a3-f393-e0a9-e50e24dcca9e"

# MiMo_Sense characteristic (with BLE descriptor{2902}), [Temperature, Lux, BiopotentialVal]

BLE_CHARACTERISTIC_UUID= "6e400003-b5a3-f393-e0a9-e50e24dcca9e";


class MyDelegate(btle.DefaultDelegate):

    def __init__(self):

        btle.DefaultDelegate.__init__(self)

        # ... initializations.


    def handleNotification(self, cHandle, data):

    	data = bytearray(data)

    	print (data)

	print ('Establishing connection with the client')

dev = btle.Peripheral(BLE_ADDRESS)

dev.setDelegate( MyDelegate() )

service_uuid = btle.UUID(BLE_SERVICE_UUID)

ble_service = dev.getServiceByUUID(service_uuid)

uuidConfig = btle.UUID(BLE_CHARACTERISTIC_UUID)

data_chrc = ble_service.getCharacteristics(uuidConfig)[0]

# print "Debug Services..."

# for svc in dev.services:

# 	print str(svc)

# print 'Debug Characteristics...'

# for ch in es_service.getCharacteristics():

# 	print str(ch)

# Enable the sensor, start notifications
# Writing x01 is the protocol for all BLE notifications.
#data_chrc.write(bytes("\x01")) 

time.sleep(3.0) # Allow to stabilise

# Main loop --------

while True:

    if dev.waitForNotifications(1.0):

        # handleNotification() was called

        continue

    print ("Waiting...")